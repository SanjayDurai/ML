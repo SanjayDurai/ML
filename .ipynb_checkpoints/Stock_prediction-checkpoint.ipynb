{
 "cells": [
  {
   "cell_type": "code",
   "execution_count": 31,
   "id": "95afebb2",
   "metadata": {},
   "outputs": [
    {
     "name": "stdout",
     "output_type": "stream",
     "text": [
      "Requirement already satisfied: yfinance in c:\\users\\sanja\\appdata\\local\\programs\\python\\python36\\lib\\site-packages (0.1.87)\n",
      "Requirement already satisfied: appdirs>=1.4.4 in c:\\users\\sanja\\appdata\\local\\programs\\python\\python36\\lib\\site-packages (from yfinance) (1.4.4)\n",
      "Requirement already satisfied: multitasking>=0.0.7 in c:\\users\\sanja\\appdata\\local\\programs\\python\\python36\\lib\\site-packages (from yfinance) (0.0.11)\n",
      "Requirement already satisfied: requests>=2.26 in c:\\users\\sanja\\appdata\\local\\programs\\python\\python36\\lib\\site-packages (from yfinance) (2.27.1)\n",
      "Requirement already satisfied: pandas>=0.24.0 in c:\\users\\sanja\\appdata\\local\\programs\\python\\python36\\lib\\site-packages (from yfinance) (1.1.5)\n",
      "Requirement already satisfied: numpy>=1.15 in c:\\users\\sanja\\appdata\\local\\programs\\python\\python36\\lib\\site-packages (from yfinance) (1.19.5)\n",
      "Requirement already satisfied: lxml>=4.5.1 in c:\\users\\sanja\\appdata\\local\\programs\\python\\python36\\lib\\site-packages (from yfinance) (5.2.2)\n",
      "Requirement already satisfied: pytz>=2017.2 in c:\\users\\sanja\\appdata\\local\\programs\\python\\python36\\lib\\site-packages (from pandas>=0.24.0->yfinance) (2024.1)\n",
      "Requirement already satisfied: python-dateutil>=2.7.3 in c:\\users\\sanja\\appdata\\local\\programs\\python\\python36\\lib\\site-packages (from pandas>=0.24.0->yfinance) (2.9.0.post0)\n",
      "Requirement already satisfied: charset-normalizer~=2.0.0 in c:\\users\\sanja\\appdata\\local\\programs\\python\\python36\\lib\\site-packages (from requests>=2.26->yfinance) (2.0.12)\n",
      "Requirement already satisfied: urllib3<1.27,>=1.21.1 in c:\\users\\sanja\\appdata\\local\\programs\\python\\python36\\lib\\site-packages (from requests>=2.26->yfinance) (1.26.18)\n",
      "Requirement already satisfied: certifi>=2017.4.17 in c:\\users\\sanja\\appdata\\local\\programs\\python\\python36\\lib\\site-packages (from requests>=2.26->yfinance) (2024.6.2)\n",
      "Requirement already satisfied: idna<4,>=2.5 in c:\\users\\sanja\\appdata\\local\\programs\\python\\python36\\lib\\site-packages (from requests>=2.26->yfinance) (3.7)\n",
      "Requirement already satisfied: six>=1.5 in c:\\users\\sanja\\appdata\\local\\programs\\python\\python36\\lib\\site-packages (from python-dateutil>=2.7.3->pandas>=0.24.0->yfinance) (1.16.0)\n",
      "Requirement already satisfied: scikit-learn in c:\\users\\sanja\\appdata\\local\\programs\\python\\python36\\lib\\site-packages (0.24.2)\n",
      "Requirement already satisfied: numpy>=1.13.3 in c:\\users\\sanja\\appdata\\local\\programs\\python\\python36\\lib\\site-packages (from scikit-learn) (1.19.5)\n",
      "Requirement already satisfied: threadpoolctl>=2.0.0 in c:\\users\\sanja\\appdata\\local\\programs\\python\\python36\\lib\\site-packages (from scikit-learn) (3.1.0)\n",
      "Requirement already satisfied: scipy>=0.19.1 in c:\\users\\sanja\\appdata\\local\\programs\\python\\python36\\lib\\site-packages (from scikit-learn) (1.5.4)\n",
      "Requirement already satisfied: joblib>=0.11 in c:\\users\\sanja\\appdata\\local\\programs\\python\\python36\\lib\\site-packages (from scikit-learn) (1.1.1)\n",
      "Requirement already satisfied: keras in c:\\users\\sanja\\appdata\\local\\programs\\python\\python36\\lib\\site-packages (2.10.0)\n",
      "Collecting tensorflow\n",
      "  Downloading tensorflow-2.6.2-cp36-cp36m-win_amd64.whl (423.3 MB)\n",
      "Collecting typing-extensions~=3.7.4\n",
      "  Downloading typing_extensions-3.7.4.3-py3-none-any.whl (22 kB)\n",
      "Collecting absl-py~=0.10\n",
      "  Downloading absl_py-0.15.0-py3-none-any.whl (132 kB)\n",
      "Collecting astunparse~=1.6.3\n",
      "  Downloading astunparse-1.6.3-py2.py3-none-any.whl (12 kB)\n",
      "Requirement already satisfied: numpy~=1.19.2 in c:\\users\\sanja\\appdata\\local\\programs\\python\\python36\\lib\\site-packages (from tensorflow) (1.19.5)\n",
      "Collecting h5py~=3.1.0\n",
      "  Using cached h5py-3.1.0-cp36-cp36m-win_amd64.whl (2.7 MB)\n",
      "Collecting tensorboard<2.7,>=2.6.0\n",
      "  Downloading tensorboard-2.6.0-py3-none-any.whl (5.6 MB)\n",
      "Collecting keras<2.7,>=2.6.0\n",
      "  Downloading keras-2.6.0-py2.py3-none-any.whl (1.3 MB)\n",
      "Collecting keras-preprocessing~=1.1.2\n",
      "  Using cached Keras_Preprocessing-1.1.2-py2.py3-none-any.whl (42 kB)\n",
      "Collecting termcolor~=1.1.0\n",
      "  Using cached termcolor-1.1.0-py3-none-any.whl\n",
      "Collecting grpcio<2.0,>=1.37.0\n",
      "  Using cached grpcio-1.48.2-cp36-cp36m-win_amd64.whl (3.6 MB)\n",
      "Collecting google-pasta~=0.2\n",
      "  Using cached google_pasta-0.2.0-py3-none-any.whl (57 kB)\n",
      "Collecting protobuf>=3.9.2\n",
      "  Using cached protobuf-3.19.6-cp36-cp36m-win_amd64.whl (897 kB)\n",
      "Collecting flatbuffers~=1.12.0\n",
      "  Downloading flatbuffers-1.12-py2.py3-none-any.whl (15 kB)\n",
      "Collecting six~=1.15.0\n",
      "  Downloading six-1.15.0-py2.py3-none-any.whl (10 kB)\n",
      "Collecting wrapt~=1.12.1\n",
      "  Downloading wrapt-1.12.1.tar.gz (27 kB)\n",
      "  Preparing metadata (setup.py): started\n",
      "  Preparing metadata (setup.py): finished with status 'done'\n",
      "Collecting gast==0.4.0\n",
      "  Downloading gast-0.4.0-py3-none-any.whl (9.8 kB)\n",
      "Collecting wheel~=0.35\n",
      "  Using cached wheel-0.37.1-py2.py3-none-any.whl (35 kB)\n",
      "Collecting tensorflow-estimator<2.7,>=2.6.0\n",
      "  Downloading tensorflow_estimator-2.6.0-py2.py3-none-any.whl (462 kB)\n",
      "Collecting opt-einsum~=3.3.0\n",
      "  Using cached opt_einsum-3.3.0-py3-none-any.whl (65 kB)\n",
      "Collecting clang~=5.0\n",
      "  Downloading clang-5.0.tar.gz (30 kB)\n",
      "  Preparing metadata (setup.py): started\n",
      "  Preparing metadata (setup.py): finished with status 'done'\n",
      "Collecting cached-property\n",
      "  Using cached cached_property-1.5.2-py2.py3-none-any.whl (7.6 kB)\n",
      "Collecting tensorboard-data-server<0.7.0,>=0.6.0\n",
      "  Downloading tensorboard_data_server-0.6.1-py3-none-any.whl (2.4 kB)\n",
      "Collecting tensorboard-plugin-wit>=1.6.0\n",
      "  Downloading tensorboard_plugin_wit-1.8.1-py3-none-any.whl (781 kB)\n",
      "Requirement already satisfied: setuptools>=41.0.0 in c:\\users\\sanja\\appdata\\local\\programs\\python\\python36\\lib\\site-packages (from tensorboard<2.7,>=2.6.0->tensorflow) (59.6.0)\n",
      "Collecting google-auth-oauthlib<0.5,>=0.4.1\n",
      "  Downloading google_auth_oauthlib-0.4.6-py2.py3-none-any.whl (18 kB)\n",
      "Collecting werkzeug>=0.11.15\n",
      "  Using cached Werkzeug-2.0.3-py3-none-any.whl (289 kB)\n",
      "Collecting google-auth<2,>=1.6.3\n",
      "  Downloading google_auth-1.35.0-py2.py3-none-any.whl (152 kB)\n",
      "Requirement already satisfied: requests<3,>=2.21.0 in c:\\users\\sanja\\appdata\\local\\programs\\python\\python36\\lib\\site-packages (from tensorboard<2.7,>=2.6.0->tensorflow) (2.27.1)\n",
      "Collecting markdown>=2.6.8\n",
      "  Using cached Markdown-3.3.7-py3-none-any.whl (97 kB)\n",
      "Collecting pyasn1-modules>=0.2.1\n",
      "  Downloading pyasn1_modules-0.3.0-py2.py3-none-any.whl (181 kB)\n",
      "Collecting rsa<5,>=3.1.4\n",
      "  Downloading rsa-4.9-py3-none-any.whl (34 kB)\n",
      "Collecting cachetools<5.0,>=2.0.0\n",
      "  Downloading cachetools-4.2.4-py3-none-any.whl (10 kB)\n",
      "Collecting requests-oauthlib>=0.7.0\n",
      "  Downloading requests_oauthlib-2.0.0-py2.py3-none-any.whl (24 kB)\n",
      "Requirement already satisfied: importlib-metadata>=4.4 in c:\\users\\sanja\\appdata\\local\\programs\\python\\python36\\lib\\site-packages (from markdown>=2.6.8->tensorboard<2.7,>=2.6.0->tensorflow) (4.8.3)\n",
      "Requirement already satisfied: charset-normalizer~=2.0.0 in c:\\users\\sanja\\appdata\\local\\programs\\python\\python36\\lib\\site-packages (from requests<3,>=2.21.0->tensorboard<2.7,>=2.6.0->tensorflow) (2.0.12)\n",
      "Requirement already satisfied: idna<4,>=2.5 in c:\\users\\sanja\\appdata\\local\\programs\\python\\python36\\lib\\site-packages (from requests<3,>=2.21.0->tensorboard<2.7,>=2.6.0->tensorflow) (3.7)\n",
      "Requirement already satisfied: urllib3<1.27,>=1.21.1 in c:\\users\\sanja\\appdata\\local\\programs\\python\\python36\\lib\\site-packages (from requests<3,>=2.21.0->tensorboard<2.7,>=2.6.0->tensorflow) (1.26.18)\n",
      "Requirement already satisfied: certifi>=2017.4.17 in c:\\users\\sanja\\appdata\\local\\programs\\python\\python36\\lib\\site-packages (from requests<3,>=2.21.0->tensorboard<2.7,>=2.6.0->tensorflow) (2024.6.2)\n",
      "Requirement already satisfied: dataclasses in c:\\users\\sanja\\appdata\\local\\programs\\python\\python36\\lib\\site-packages (from werkzeug>=0.11.15->tensorboard<2.7,>=2.6.0->tensorflow) (0.8)\n",
      "Requirement already satisfied: zipp>=0.5 in c:\\users\\sanja\\appdata\\local\\programs\\python\\python36\\lib\\site-packages (from importlib-metadata>=4.4->markdown>=2.6.8->tensorboard<2.7,>=2.6.0->tensorflow) (3.6.0)\n",
      "Collecting pyasn1<0.6.0,>=0.4.6\n",
      "  Downloading pyasn1-0.5.1-py2.py3-none-any.whl (84 kB)\n",
      "Collecting oauthlib>=3.0.0\n",
      "  Downloading oauthlib-3.2.2-py3-none-any.whl (151 kB)\n",
      "Using legacy 'setup.py install' for clang, since package 'wheel' is not installed.\n",
      "Using legacy 'setup.py install' for wrapt, since package 'wheel' is not installed.\n",
      "Installing collected packages: pyasn1, typing-extensions, six, rsa, pyasn1-modules, oauthlib, cachetools, requests-oauthlib, google-auth, wheel, werkzeug, tensorboard-plugin-wit, tensorboard-data-server, protobuf, markdown, grpcio, google-auth-oauthlib, cached-property, absl-py, wrapt, termcolor, tensorflow-estimator, tensorboard, opt-einsum, keras-preprocessing, keras, h5py, google-pasta, gast, flatbuffers, clang, astunparse, tensorflow\n",
      "  Attempting uninstall: typing-extensions\n",
      "    Found existing installation: typing-extensions 4.1.1\n",
      "    Uninstalling typing-extensions-4.1.1:\n",
      "      Successfully uninstalled typing-extensions-4.1.1\n",
      "  Attempting uninstall: six\n",
      "    Found existing installation: six 1.16.0\n",
      "    Uninstalling six-1.16.0:\n",
      "      Successfully uninstalled six-1.16.0\n",
      "    Running setup.py install for wrapt: started\n",
      "    Running setup.py install for wrapt: finished with status 'done'\n",
      "  Attempting uninstall: keras\n",
      "    Found existing installation: keras 2.10.0\n",
      "    Uninstalling keras-2.10.0:\n",
      "      Successfully uninstalled keras-2.10.0\n",
      "    Running setup.py install for clang: started\n",
      "    Running setup.py install for clang: finished with status 'done'\n",
      "Successfully installed absl-py-0.15.0 astunparse-1.6.3 cached-property-1.5.2 cachetools-4.2.4 clang-5.0 flatbuffers-1.12 gast-0.4.0 google-auth-1.35.0 google-auth-oauthlib-0.4.6 google-pasta-0.2.0 grpcio-1.48.2 h5py-3.1.0 keras-2.6.0 keras-preprocessing-1.1.2 markdown-3.3.7 oauthlib-3.2.2 opt-einsum-3.3.0 protobuf-3.19.6 pyasn1-0.5.1 pyasn1-modules-0.3.0 requests-oauthlib-2.0.0 rsa-4.9 six-1.15.0 tensorboard-2.6.0 tensorboard-data-server-0.6.1 tensorboard-plugin-wit-1.8.1 tensorflow-2.6.2 tensorflow-estimator-2.6.0 termcolor-1.1.0 typing-extensions-3.7.4.3 werkzeug-2.0.3 wheel-0.37.1 wrapt-1.12.1\n"
     ]
    }
   ],
   "source": [
    "!pip install yfinance\n",
    "!pip install scikit-learn\n",
    "!pip install keras\n",
    "!pip install tensorflow"
   ]
  },
  {
   "cell_type": "code",
   "execution_count": 3,
   "id": "93f57773",
   "metadata": {},
   "outputs": [],
   "source": [
    "import numpy as np\n",
    "import pandas as pd\n",
    "import matplotlib.pyplot as plt\n",
    "import yfinance as yf"
   ]
  },
  {
   "cell_type": "code",
   "execution_count": null,
   "id": "1346cfe2",
   "metadata": {},
   "outputs": [],
   "source": [
    "symbol = \"GOOG\"\n",
    "start = \"2012-01-01\"\n",
    "end = \"2022-12-21\"\n",
    "\n",
    "data = yf.download(symbol,start,end)"
   ]
  },
  {
   "cell_type": "code",
   "execution_count": 6,
   "id": "05e5fcb0",
   "metadata": {},
   "outputs": [],
   "source": [
    "data.reset_index(inplace=True)"
   ]
  },
  {
   "cell_type": "code",
   "execution_count": 7,
   "id": "dc6be7b1",
   "metadata": {},
   "outputs": [
    {
     "data": {
      "text/html": [
       "<div>\n",
       "<style scoped>\n",
       "    .dataframe tbody tr th:only-of-type {\n",
       "        vertical-align: middle;\n",
       "    }\n",
       "\n",
       "    .dataframe tbody tr th {\n",
       "        vertical-align: top;\n",
       "    }\n",
       "\n",
       "    .dataframe thead th {\n",
       "        text-align: right;\n",
       "    }\n",
       "</style>\n",
       "<table border=\"1\" class=\"dataframe\">\n",
       "  <thead>\n",
       "    <tr style=\"text-align: right;\">\n",
       "      <th></th>\n",
       "      <th>Date</th>\n",
       "      <th>Open</th>\n",
       "      <th>High</th>\n",
       "      <th>Low</th>\n",
       "      <th>Close</th>\n",
       "      <th>Adj Close</th>\n",
       "      <th>Volume</th>\n",
       "    </tr>\n",
       "  </thead>\n",
       "  <tbody>\n",
       "    <tr>\n",
       "      <th>0</th>\n",
       "      <td>2012-01-03</td>\n",
       "      <td>6.706250</td>\n",
       "      <td>6.805000</td>\n",
       "      <td>6.66250</td>\n",
       "      <td>6.681250</td>\n",
       "      <td>4.888681</td>\n",
       "      <td>14123200</td>\n",
       "    </tr>\n",
       "    <tr>\n",
       "      <th>1</th>\n",
       "      <td>2012-01-04</td>\n",
       "      <td>6.700000</td>\n",
       "      <td>6.757500</td>\n",
       "      <td>6.63875</td>\n",
       "      <td>6.650000</td>\n",
       "      <td>4.865815</td>\n",
       "      <td>9913600</td>\n",
       "    </tr>\n",
       "    <tr>\n",
       "      <th>2</th>\n",
       "      <td>2012-01-05</td>\n",
       "      <td>6.651250</td>\n",
       "      <td>6.793750</td>\n",
       "      <td>6.64000</td>\n",
       "      <td>6.751250</td>\n",
       "      <td>4.939899</td>\n",
       "      <td>12347200</td>\n",
       "    </tr>\n",
       "    <tr>\n",
       "      <th>3</th>\n",
       "      <td>2012-01-06</td>\n",
       "      <td>6.726250</td>\n",
       "      <td>6.750000</td>\n",
       "      <td>6.64000</td>\n",
       "      <td>6.740000</td>\n",
       "      <td>4.931668</td>\n",
       "      <td>10824000</td>\n",
       "    </tr>\n",
       "    <tr>\n",
       "      <th>4</th>\n",
       "      <td>2012-01-09</td>\n",
       "      <td>6.771250</td>\n",
       "      <td>6.932500</td>\n",
       "      <td>6.75250</td>\n",
       "      <td>6.917500</td>\n",
       "      <td>5.061544</td>\n",
       "      <td>16880000</td>\n",
       "    </tr>\n",
       "    <tr>\n",
       "      <th>...</th>\n",
       "      <td>...</td>\n",
       "      <td>...</td>\n",
       "      <td>...</td>\n",
       "      <td>...</td>\n",
       "      <td>...</td>\n",
       "      <td>...</td>\n",
       "      <td>...</td>\n",
       "    </tr>\n",
       "    <tr>\n",
       "      <th>2763</th>\n",
       "      <td>2022-12-23</td>\n",
       "      <td>17.820000</td>\n",
       "      <td>17.950001</td>\n",
       "      <td>17.73000</td>\n",
       "      <td>17.920000</td>\n",
       "      <td>17.106667</td>\n",
       "      <td>3685100</td>\n",
       "    </tr>\n",
       "    <tr>\n",
       "      <th>2764</th>\n",
       "      <td>2022-12-27</td>\n",
       "      <td>18.010000</td>\n",
       "      <td>18.090000</td>\n",
       "      <td>17.84000</td>\n",
       "      <td>18.030001</td>\n",
       "      <td>17.211672</td>\n",
       "      <td>4943200</td>\n",
       "    </tr>\n",
       "    <tr>\n",
       "      <th>2765</th>\n",
       "      <td>2022-12-28</td>\n",
       "      <td>18.049999</td>\n",
       "      <td>18.190001</td>\n",
       "      <td>17.92000</td>\n",
       "      <td>17.959999</td>\n",
       "      <td>17.144848</td>\n",
       "      <td>5872100</td>\n",
       "    </tr>\n",
       "    <tr>\n",
       "      <th>2766</th>\n",
       "      <td>2022-12-29</td>\n",
       "      <td>18.090000</td>\n",
       "      <td>18.379999</td>\n",
       "      <td>18.09000</td>\n",
       "      <td>18.240000</td>\n",
       "      <td>17.412140</td>\n",
       "      <td>4971600</td>\n",
       "    </tr>\n",
       "    <tr>\n",
       "      <th>2767</th>\n",
       "      <td>2022-12-30</td>\n",
       "      <td>18.090000</td>\n",
       "      <td>18.180000</td>\n",
       "      <td>17.85000</td>\n",
       "      <td>18.010000</td>\n",
       "      <td>17.192579</td>\n",
       "      <td>4468300</td>\n",
       "    </tr>\n",
       "  </tbody>\n",
       "</table>\n",
       "<p>2768 rows × 7 columns</p>\n",
       "</div>"
      ],
      "text/plain": [
       "           Date       Open       High       Low      Close  Adj Close  \\\n",
       "0    2012-01-03   6.706250   6.805000   6.66250   6.681250   4.888681   \n",
       "1    2012-01-04   6.700000   6.757500   6.63875   6.650000   4.865815   \n",
       "2    2012-01-05   6.651250   6.793750   6.64000   6.751250   4.939899   \n",
       "3    2012-01-06   6.726250   6.750000   6.64000   6.740000   4.931668   \n",
       "4    2012-01-09   6.771250   6.932500   6.75250   6.917500   5.061544   \n",
       "...         ...        ...        ...       ...        ...        ...   \n",
       "2763 2022-12-23  17.820000  17.950001  17.73000  17.920000  17.106667   \n",
       "2764 2022-12-27  18.010000  18.090000  17.84000  18.030001  17.211672   \n",
       "2765 2022-12-28  18.049999  18.190001  17.92000  17.959999  17.144848   \n",
       "2766 2022-12-29  18.090000  18.379999  18.09000  18.240000  17.412140   \n",
       "2767 2022-12-30  18.090000  18.180000  17.85000  18.010000  17.192579   \n",
       "\n",
       "        Volume  \n",
       "0     14123200  \n",
       "1      9913600  \n",
       "2     12347200  \n",
       "3     10824000  \n",
       "4     16880000  \n",
       "...        ...  \n",
       "2763   3685100  \n",
       "2764   4943200  \n",
       "2765   5872100  \n",
       "2766   4971600  \n",
       "2767   4468300  \n",
       "\n",
       "[2768 rows x 7 columns]"
      ]
     },
     "execution_count": 7,
     "metadata": {},
     "output_type": "execute_result"
    }
   ],
   "source": [
    "data"
   ]
  },
  {
   "cell_type": "code",
   "execution_count": 11,
   "id": "058e9287",
   "metadata": {},
   "outputs": [],
   "source": [
    "ma_100_days = data.Close.rolling(100).mean()"
   ]
  },
  {
   "cell_type": "code",
   "execution_count": 12,
   "id": "582dbc23",
   "metadata": {},
   "outputs": [
    {
     "data": {
      "image/png": "[encoded data removed]",
      "text/plain": [
       "<Figure size 576x432 with 1 Axes>"
      ]
     },
     "metadata": {
      "needs_background": "light"
     },
     "output_type": "display_data"
    }
   ],
   "source": [
    "plt.figure(figsize = (8,6))\n",
    "plt.plot(ma_100_days , 'r')\n",
    "plt.plot(data.Close, 'g')\n",
    "plt.show()"
   ]
  },
  {
   "cell_type": "code",
   "execution_count": 13,
   "id": "07a7de34",
   "metadata": {},
   "outputs": [],
   "source": [
    "ma_200_days = data.Close.rolling(200).mean()"
   ]
  },
  {
   "cell_type": "code",
   "execution_count": 15,
   "id": "c2554a7f",
   "metadata": {},
   "outputs": [
    {
     "data": {
      "image/png": "[encoded data removed]",
      "text/plain": [
       "<Figure size 576x432 with 1 Axes>"
      ]
     },
     "metadata": {
      "needs_background": "light"
     },
     "output_type": "display_data"
    }
   ],
   "source": [
    "plt.figure(figsize = (8,6))\n",
    "plt.plot(ma_100_days, 'r')\n",
    "plt.plot(ma_200_days , 'b')\n",
    "plt.plot(data.Close, 'g')\n",
    "plt.show()"
   ]
  },
  {
   "cell_type": "code",
   "execution_count": 17,
   "id": "014e2f72",
   "metadata": {},
   "outputs": [],
   "source": [
    "data.dropna (inplace=True)\n",
    "data_train = pd.DataFrame(data.Close[0: int(len(data) *0.80)])\n",
    "data_test = pd.DataFrame(data.Close[int (len(data) *0.80): len(data)])"
   ]
  },
  {
   "cell_type": "code",
   "execution_count": 18,
   "id": "c796fb95",
   "metadata": {},
   "outputs": [
    {
     "data": {
      "text/plain": [
       "2214"
      ]
     },
     "execution_count": 18,
     "metadata": {},
     "output_type": "execute_result"
    }
   ],
   "source": [
    "data_train.shape[0]"
   ]
  },
  {
   "cell_type": "code",
   "execution_count": 19,
   "id": "4f192ac3",
   "metadata": {},
   "outputs": [
    {
     "data": {
      "text/plain": [
       "554"
      ]
     },
     "execution_count": 19,
     "metadata": {},
     "output_type": "execute_result"
    }
   ],
   "source": [
    "data_test.shape[0]"
   ]
  },
  {
   "cell_type": "code",
   "execution_count": 22,
   "id": "cc9d9f69",
   "metadata": {},
   "outputs": [],
   "source": [
    "from sklearn.preprocessing import MinMaxScaler"
   ]
  },
  {
   "cell_type": "code",
   "execution_count": 23,
   "id": "e72ed533",
   "metadata": {},
   "outputs": [],
   "source": [
    "scaler = MinMaxScaler (feature_range=(0,1))\n",
    "data_train_scale = scaler.fit_transform (data_train)"
   ]
  },
  {
   "cell_type": "code",
   "execution_count": 25,
   "id": "7d4a22a1",
   "metadata": {},
   "outputs": [],
   "source": [
    "x = [ ]\n",
    "y = [ ]\n",
    "for i in range(100, data_train_scale.shape[0]):\n",
    "    x.append(data_train_scale [i-100: i])\n",
    "    y.append(data_train_scale [1,0])"
   ]
  },
  {
   "cell_type": "code",
   "execution_count": 27,
   "id": "22033a7c",
   "metadata": {},
   "outputs": [],
   "source": [
    "x, y = np.array(x), np.array(y)"
   ]
  },
  {
   "cell_type": "code",
   "execution_count": 32,
   "id": "b39bfb65",
   "metadata": {},
   "outputs": [],
   "source": [
    "from keras.layers import Dense, Dropout, LSTM\n",
    "from keras.models import Sequential"
   ]
  },
  {
   "cell_type": "code",
   "execution_count": 34,
   "id": "72d4e648",
   "metadata": {},
   "outputs": [],
   "source": [
    "model = Sequential()\n",
    "\n",
    "model.add(LSTM(units = 50, activation = 'relu', return_sequences = True, input_shape = ((x.shape[1],1))))\n",
    "model.add(Dropout (0.2))\n",
    "\n",
    "model.add(LSTM(units = 60, activation='relu', return_sequences = True))\n",
    "model.add(Dropout (0.3))\n",
    "\n",
    "model.add(LSTM(units = 80, activation = 'relu', return_sequences = True))\n",
    "model.add(Dropout (0.4))\n",
    "\n",
    "model.add(LSTM(units = 120, activation = 'relu'))\n",
    "model.add(Dropout (0.5))\n",
    "\n",
    "model.add(Dense (units =1))"
   ]
  },
  {
   "cell_type": "code",
   "execution_count": 35,
   "id": "0712050a",
   "metadata": {},
   "outputs": [],
   "source": [
    "model.compile(optimizer = \"adam\", loss = \"mean_squared_error\")"
   ]
  },
  {
   "cell_type": "code",
   "execution_count": 36,
   "id": "ecdcf234",
   "metadata": {},
   "outputs": [
    {
     "name": "stdout",
     "output_type": "stream",
     "text": [
      "Epoch 1/50\n",
      "67/67 [==============================] - 22s 245ms/step - loss: 0.0025\n",
      "Epoch 2/50\n",
      "67/67 [==============================] - 16s 246ms/step - loss: 4.7248e-04\n",
      "Epoch 3/50\n",
      "67/67 [==============================] - 17s 247ms/step - loss: 3.7618e-04\n",
      "Epoch 4/50\n",
      "67/67 [==============================] - 17s 252ms/step - loss: 3.2344e-04\n",
      "Epoch 5/50\n",
      "67/67 [==============================] - 16s 244ms/step - loss: 2.8408e-04\n",
      "Epoch 6/50\n",
      "67/67 [==============================] - 16s 245ms/step - loss: 2.3838e-04\n",
      "Epoch 7/50\n",
      "67/67 [==============================] - 16s 241ms/step - loss: 2.2008e-04\n",
      "Epoch 8/50\n",
      "67/67 [==============================] - 19s 285ms/step - loss: 1.7039e-04\n",
      "Epoch 9/50\n",
      "67/67 [==============================] - 17s 258ms/step - loss: 1.4130e-04\n",
      "Epoch 10/50\n",
      "67/67 [==============================] - 16s 242ms/step - loss: 1.1866e-04\n",
      "Epoch 11/50\n",
      "67/67 [==============================] - 19s 283ms/step - loss: 1.0203e-04\n",
      "Epoch 12/50\n",
      "67/67 [==============================] - 15s 230ms/step - loss: 8.7033e-05\n",
      "Epoch 13/50\n",
      "67/67 [==============================] - 16s 245ms/step - loss: 6.6380e-05\n",
      "Epoch 14/50\n",
      "67/67 [==============================] - 18s 267ms/step - loss: 5.0019e-05\n",
      "Epoch 15/50\n",
      "67/67 [==============================] - 13s 187ms/step - loss: 4.1402e-05\n",
      "Epoch 16/50\n",
      "67/67 [==============================] - 13s 188ms/step - loss: 3.3873e-05\n",
      "Epoch 17/50\n",
      "67/67 [==============================] - 13s 189ms/step - loss: 2.5749e-05\n",
      "Epoch 18/50\n",
      "67/67 [==============================] - 13s 192ms/step - loss: 2.1313e-05\n",
      "Epoch 19/50\n",
      "67/67 [==============================] - 13s 193ms/step - loss: 1.6202e-053s \n",
      "Epoch 20/50\n",
      "67/67 [==============================] - 13s 194ms/step - loss: 1.3399e-05\n",
      "Epoch 21/50\n",
      "67/67 [==============================] - 13s 193ms/step - loss: 9.8711e-06\n",
      "Epoch 22/50\n",
      "67/67 [==============================] - 13s 195ms/step - loss: 7.2602e-06\n",
      "Epoch 23/50\n",
      "67/67 [==============================] - 13s 196ms/step - loss: 5.8252e-06\n",
      "Epoch 24/50\n",
      "67/67 [==============================] - 14s 206ms/step - loss: 4.0920e-06\n",
      "Epoch 25/50\n",
      "67/67 [==============================] - 15s 222ms/step - loss: 2.9066e-06\n",
      "Epoch 26/50\n",
      "67/67 [==============================] - 15s 226ms/step - loss: 2.2856e-06\n",
      "Epoch 27/50\n",
      "67/67 [==============================] - 15s 224ms/step - loss: 1.6692e-06\n",
      "Epoch 28/50\n",
      "67/67 [==============================] - 15s 225ms/step - loss: 1.2323e-06\n",
      "Epoch 29/50\n",
      "67/67 [==============================] - 15s 225ms/step - loss: 8.0964e-07\n",
      "Epoch 30/50\n",
      "67/67 [==============================] - 15s 223ms/step - loss: 5.8049e-07\n",
      "Epoch 31/50\n",
      "67/67 [==============================] - 15s 223ms/step - loss: 4.2183e-07\n",
      "Epoch 32/50\n",
      "67/67 [==============================] - 15s 222ms/step - loss: 2.6918e-07\n",
      "Epoch 33/50\n",
      "67/67 [==============================] - 15s 224ms/step - loss: 1.8103e-07\n",
      "Epoch 34/50\n",
      "67/67 [==============================] - 15s 223ms/step - loss: 1.2711e-07\n",
      "Epoch 35/50\n",
      "67/67 [==============================] - 15s 221ms/step - loss: 8.0932e-08\n",
      "Epoch 36/50\n",
      "67/67 [==============================] - 15s 226ms/step - loss: 5.5607e-08\n",
      "Epoch 37/50\n",
      "67/67 [==============================] - 15s 224ms/step - loss: 3.4382e-08\n",
      "Epoch 38/50\n",
      "67/67 [==============================] - 15s 221ms/step - loss: 2.3330e-08\n",
      "Epoch 39/50\n",
      "67/67 [==============================] - 15s 223ms/step - loss: 1.3103e-08\n",
      "Epoch 40/50\n",
      "67/67 [==============================] - 15s 223ms/step - loss: 8.0161e-09\n",
      "Epoch 41/50\n",
      "67/67 [==============================] - 15s 224ms/step - loss: 5.1715e-09\n",
      "Epoch 42/50\n",
      "67/67 [==============================] - 15s 222ms/step - loss: 2.8387e-09\n",
      "Epoch 43/50\n",
      "67/67 [==============================] - 15s 222ms/step - loss: 1.9110e-09\n",
      "Epoch 44/50\n",
      "67/67 [==============================] - 15s 224ms/step - loss: 1.3596e-09\n",
      "Epoch 45/50\n",
      "67/67 [==============================] - 15s 221ms/step - loss: 9.3555e-10\n",
      "Epoch 46/50\n",
      "67/67 [==============================] - 15s 223ms/step - loss: 6.9603e-10\n",
      "Epoch 47/50\n",
      "67/67 [==============================] - 15s 224ms/step - loss: 4.7412e-10\n",
      "Epoch 48/50\n",
      "67/67 [==============================] - 15s 222ms/step - loss: 2.5466e-10\n",
      "Epoch 49/50\n",
      "67/67 [==============================] - 15s 224ms/step - loss: 4.3920e-10\n",
      "Epoch 50/50\n",
      "67/67 [==============================] - 15s 222ms/step - loss: 1.2989e-10\n"
     ]
    },
    {
     "data": {
      "text/plain": [
       "<keras.callbacks.History at 0x170888fdb38>"
      ]
     },
     "execution_count": 36,
     "metadata": {},
     "output_type": "execute_result"
    }
   ],
   "source": [
    "model.fit(x,y, epochs = 50, batch_size= 32, verbose = 1)"
   ]
  },
  {
   "cell_type": "code",
   "execution_count": 37,
   "id": "b59b488e",
   "metadata": {},
   "outputs": [
    {
     "name": "stdout",
     "output_type": "stream",
     "text": [
      "Model: \"sequential_1\"\n",
      "_________________________________________________________________\n",
      "Layer (type)                 Output Shape              Param #   \n",
      "=================================================================\n",
      "lstm_1 (LSTM)                (None, 100, 50)           10400     \n",
      "_________________________________________________________________\n",
      "dropout_1 (Dropout)          (None, 100, 50)           0         \n",
      "_________________________________________________________________\n",
      "lstm_2 (LSTM)                (None, 100, 60)           26640     \n",
      "_________________________________________________________________\n",
      "dropout_2 (Dropout)          (None, 100, 60)           0         \n",
      "_________________________________________________________________\n",
      "lstm_3 (LSTM)                (None, 100, 80)           45120     \n",
      "_________________________________________________________________\n",
      "dropout_3 (Dropout)          (None, 100, 80)           0         \n",
      "_________________________________________________________________\n",
      "lstm_4 (LSTM)                (None, 120)               96480     \n",
      "_________________________________________________________________\n",
      "dropout_4 (Dropout)          (None, 120)               0         \n",
      "_________________________________________________________________\n",
      "dense (Dense)                (None, 1)                 121       \n",
      "=================================================================\n",
      "Total params: 178,761\n",
      "Trainable params: 178,761\n",
      "Non-trainable params: 0\n",
      "_________________________________________________________________\n"
     ]
    }
   ],
   "source": [
    "model.summary()"
   ]
  },
  {
   "cell_type": "code",
   "execution_count": 39,
   "id": "43e999f0",
   "metadata": {},
   "outputs": [],
   "source": [
    "pas_100_days = data_train.tail (100)\n",
    "data_test= pd.concat([pas_100_days, data_test], ignore_index=True)\n",
    "data_test_scale = scaler.fit_transform(data_test)"
   ]
  },
  {
   "cell_type": "code",
   "execution_count": 41,
   "id": "508fff2f",
   "metadata": {},
   "outputs": [],
   "source": [
    "x = [ ]\n",
    "y = [ ]\n",
    "for i in range(100, data_test_scale.shape[0]):\n",
    "    x.append(data_test_scale [i-100: i])\n",
    "    y.append(data_test_scale [1,0])\n",
    "\n",
    "x,y = np.array(x), np.array(y)"
   ]
  },
  {
   "cell_type": "code",
   "execution_count": 42,
   "id": "33db8c24",
   "metadata": {},
   "outputs": [],
   "source": [
    "y_predict = model.predict(x)"
   ]
  },
  {
   "cell_type": "code",
   "execution_count": 43,
   "id": "45315869",
   "metadata": {},
   "outputs": [],
   "source": [
    "scale = 1/scaler.scale_"
   ]
  },
  {
   "cell_type": "code",
   "execution_count": 44,
   "id": "837f019c",
   "metadata": {},
   "outputs": [],
   "source": [
    "y_predict*=scale"
   ]
  },
  {
   "cell_type": "code",
   "execution_count": 45,
   "id": "ca75a31a",
   "metadata": {},
   "outputs": [],
   "source": [
    "y*=scale"
   ]
  },
  {
   "cell_type": "code",
   "execution_count": 47,
   "id": "94f7e256",
   "metadata": {},
   "outputs": [
    {
     "data": {
      "image/png": "[encoded data removed]",
      "text/plain": [
       "<Figure size 720x576 with 1 Axes>"
      ]
     },
     "metadata": {
      "needs_background": "light"
     },
     "output_type": "display_data"
    }
   ],
   "source": [
    "plt.figure(figsize=(10,8))\n",
    "plt.plot(y_predict, 'r', label = 'Predicted Price')\n",
    "plt.plot(y, 'g', label = 'Original Price')\n",
    "plt.xlabel('Time')\n",
    "plt.ylabel('Price')\n",
    "plt.legend()\n",
    "plt.show()"
   ]
  },
  {
   "cell_type": "code",
   "execution_count": null,
   "id": "b0b5c7ef",
   "metadata": {},
   "outputs": [],
   "source": []
  }
 ],
 "metadata": {
  "kernelspec": {
   "display_name": "Python 3",
   "language": "python",
   "name": "python3"
  },
  "language_info": {
   "codemirror_mode": {
    "name": "ipython",
    "version": 3
   },
   "file_extension": ".py",
   "mimetype": "text/x-python",
   "name": "python",
   "nbconvert_exporter": "python",
   "pygments_lexer": "ipython3",
   "version": "3.6.7"
  }
 },
 "nbformat": 4,
 "nbformat_minor": 5
}
